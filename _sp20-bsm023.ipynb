{
 "cells": [
  {
   "cell_type": "markdown",
   "id": "617b2a28",
   "metadata": {},
   "source": [
    "# Numerical Methods Mid term Paper \n",
    "\n",
    "## Total Marks : 25"
   ]
  },
  {
   "cell_type": "markdown",
   "id": "9df30db7",
   "metadata": {},
   "source": [
    "# Question #1 \n",
    "\n",
    "Convert the following algorithms into python by using functions and then solve the following problem\n",
    "\n",
    "Find the roots of the following equation\n",
    "\n",
    "$2x^2 - 5x + 3 = 0$  analytical roots are $x = 1.5,1$"
   ]
  },
  {
   "cell_type": "markdown",
   "id": "6fc01e0b",
   "metadata": {},
   "source": [
    "## Algorithm 1 (Secant Method)\n",
    "\n",
    "1. Input two values for $x_1$ and $x_2$\n",
    "2. Calculate $x_{new} = x_2 - \\frac{x_2-x_1}{f(x_2)-f(x_1)}f(x_2)$\n",
    "3. If $|x_{new} - x_2| < tolerance$ , output $x_{new}$ the root and stop\n",
    "4. If number of iterations reaches the maximum, stop.\n",
    "5. Else let $x_1=x_2$ and $x_2=x_{new}$\n",
    "6. Repeat the steps from 2"
   ]
  },
  {
   "cell_type": "markdown",
   "id": "e3f9d388",
   "metadata": {},
   "source": [
    "## Algorithm 2 (Newton's Methd)\n",
    "\n",
    "\n",
    "1. Find $f'(x)$ and define newton's raphson equation\n",
    "2. Guess an initial value of x for the first iteration\n",
    "3. substitute x in the NR equation and calculate $x^*$\n",
    "4. if $|x^*-x|<tolerance$, stop iterations and output the root: $x^*$\n",
    "5. if the number of interations reaches an assumed maximum, stop.\n",
    "6. else let $x=x^*$ and repeat the steps from 3 until a condition in 4 or 5 is satisfied."
   ]
  },
  {
   "cell_type": "markdown",
   "id": "f2e7376a",
   "metadata": {},
   "source": [
    "# Question # 2\n",
    "\n",
    "Plot the first derivative of the following function over $[-1,1]$ by using the forward, backward and central differences.\n",
    "\n",
    "Compare the plots with the theoretical one at $h = 0.1, 0.01$ and $0.001$\n",
    "\n",
    "$f(x) = 0.1x^5 - 0.2x^3 + 0.1x - 0.2$\n",
    "\n",
    "Theoretical :\n",
    "\n",
    "$f'(x) = 0.5x^4 - 0.6x^2 + 0.1$\n",
    "\n",
    "**Formulas are given for reference**\n",
    "\n",
    "**FORWARD FINITE DIFFERENCES**\n",
    "\n",
    "$f'(x) = \\frac{f(x_{i+1})-f(x_i)}{h}$\n",
    "\n",
    "$f''(x) = \\frac{f(x_{i+2})-2f(x_{i+1})+f(x_i)}{h^2}$\n",
    "\n",
    "**BACKWARD FINITE DIFFERENCES**\n",
    "\n",
    "$f'(x) = \\frac{f(x_{i}-f(x_i))}{h}$\n",
    "\n",
    "$f''(x) = \\frac{f(x_{i})-2f(x_{i-1})+f(x_{i-2})}{h^2}$\n",
    "\n",
    "**CENTRAL FINITE DIFFERENCES**\n",
    "\n",
    "$f'(x) = \\frac{f(x_{i+1})-f(x_{i-1})}{2h}$\n",
    "\n",
    "$f''(x) = \\frac{f(x_{i+1})-2f(x_i)+f(x_{i-1})}{h^2}$\n"
   ]
  },
  {
   "cell_type": "code",
   "execution_count": 1,
   "id": "533ffbc6",
   "metadata": {},
   "outputs": [
    {
     "name": "stderr",
     "output_type": "stream",
     "text": [
      "Matplotlib is building the font cache; this may take a moment.\n"
     ]
    }
   ],
   "source": [
    "import numpy as np\n",
    "import matplotlib .pyplot as plt"
   ]
  },
  {
   "cell_type": "code",
   "execution_count": 4,
   "id": "a0636ab7",
   "metadata": {},
   "outputs": [],
   "source": [
    "f = lambda x:0.1*x**5 - 0.2*x**3 + 0.1*x-0.2"
   ]
  },
  {
   "cell_type": "code",
   "execution_count": 5,
   "id": "071c9297",
   "metadata": {},
   "outputs": [],
   "source": [
    "x = 0.1\n",
    "h = 0.1"
   ]
  },
  {
   "cell_type": "code",
   "execution_count": 6,
   "id": "cc04fc40",
   "metadata": {},
   "outputs": [],
   "source": [
    "df1 = 0.09485\n",
    "df2 = -0.118"
   ]
  },
  {
   "cell_type": "code",
   "execution_count": 7,
   "id": "c6979449",
   "metadata": {},
   "outputs": [
    {
     "name": "stdout",
     "output_type": "stream",
     "text": [
      "\t f`(x)\t\\err\t\f",
      "``(x)\t\t err\n"
     ]
    }
   ],
   "source": [
    "print (\"\\t f`(x)\\t\\err\\t\\f``(x)\\t\\t err\")"
   ]
  },
  {
   "cell_type": "code",
   "execution_count": 8,
   "id": "9875300f",
   "metadata": {},
   "outputs": [],
   "source": [
    "# Forward differences"
   ]
  },
  {
   "cell_type": "code",
   "execution_count": 9,
   "id": "a9c3f239",
   "metadata": {},
   "outputs": [
    {
     "name": "stdout",
     "output_type": "stream",
     "text": [
      "FFD\t 1.720422\t 1.720422\t-0.222000\\-0.104000\n"
     ]
    }
   ],
   "source": [
    "dff1 = (f(x+h))-f(x)/h\n",
    "dff2 = (f(x+2*h)-2*f(x+h)+f(x))/h**2\n",
    "print(\"FFD\\t% f\\t% f\\t% f\\% f\"%(dff1,dff1,dff2,dff2-df2))"
   ]
  },
  {
   "cell_type": "code",
   "execution_count": 10,
   "id": "ca2c9be1",
   "metadata": {},
   "outputs": [],
   "source": [
    "#backward difference"
   ]
  },
  {
   "cell_type": "code",
   "execution_count": 16,
   "id": "05f2c7f7",
   "metadata": {},
   "outputs": [
    {
     "name": "stdout",
     "output_type": "stream",
     "text": [
      "FFD\t 0.098010\t 0.003160\t 0.000000\\ 0.118000\n"
     ]
    }
   ],
   "source": [
    "dff1 = (f(x) - f(x-h))/h\n",
    "dff2 = (f(x) - 2*f(x-h) + f(x-2*h))/h**2\n",
    "print(\"FFD\\t% f\\t% f\\t% f\\% f\"%(dff1,dff1-df1,dff2,dff2-df2))"
   ]
  },
  {
   "cell_type": "code",
   "execution_count": 18,
   "id": "77a0957f",
   "metadata": {},
   "outputs": [],
   "source": [
    "f = lambda x : 0.1*x**5 - 0.2*x**3 + 0.1*x - 0.2\n",
    "h = 0.01"
   ]
  },
  {
   "cell_type": "code",
   "execution_count": 19,
   "id": "0961da9b",
   "metadata": {},
   "outputs": [],
   "source": [
    "# will create an array of elements between -1 and 1 having so equali\n",
    "x = np.linspace(-1,1,50)"
   ]
  },
  {
   "cell_type": "code",
   "execution_count": 20,
   "id": "805f14bf",
   "metadata": {},
   "outputs": [],
   "source": [
    "#central difference"
   ]
  },
  {
   "cell_type": "code",
   "execution_count": 21,
   "id": "1420f77c",
   "metadata": {},
   "outputs": [],
   "source": [
    "dff1 = (f(x+h) - f(x-h))/(2*h)\n",
    "dff2 = (f(x+h) - 2*f(x) + f(x-h))/h**2"
   ]
  },
  {
   "cell_type": "code",
   "execution_count": 22,
   "id": "82597465",
   "metadata": {},
   "outputs": [],
   "source": [
    "#plot"
   ]
  },
  {
   "cell_type": "code",
   "execution_count": 23,
   "id": "dd55a4b9",
   "metadata": {},
   "outputs": [
    {
     "data": {
      "text/plain": [
       "<matplotlib.legend.Legend at 0x1d3a8c6aaf0>"
      ]
     },
     "execution_count": 23,
     "metadata": {},
     "output_type": "execute_result"
    },
    {
     "data": {
      "image/png": "[encoded data removed]",
      "text/plain": [
       "<Figure size 432x288 with 1 Axes>"
      ]
     },
     "metadata": {
      "needs_background": "light"
     },
     "output_type": "display_data"
    }
   ],
   "source": [
    "plt.plot(x,f(x),'k',x,dff1,'--b',x,dff2,'-r')\n",
    "plt.xlabel('x')\n",
    "plt.ylabel('y')\n",
    "\n",
    "plt.legend([\"f(x)\",\"f\"])"
   ]
  },
  {
   "cell_type": "code",
   "execution_count": 24,
   "id": "788ca5dc",
   "metadata": {},
   "outputs": [],
   "source": [
    "import numpy as np\n",
    "import math\n",
    "import matplotlib.pyplot as plt\n",
    "f = lambda x:0.1*x**5 - 0.2*x**3 + 0.1*x-0.2"
   ]
  },
  {
   "cell_type": "code",
   "execution_count": 32,
   "id": "e1686ccc",
   "metadata": {},
   "outputs": [
    {
     "name": "stdout",
     "output_type": "stream",
     "text": [
      "\t f'(x)\t\\err\t\f",
      "''(x)\t\t err\n",
      "FFD\t 0.08631000\t-0.00854000\t-0.22200000\t-0.10400000\n",
      "BFD\t 0.09801000\t 0.00316000\t 1.50420000\t 1.62220000\n",
      "CFD\t 0.18432000\t 0.08947000\t 21.84320000\t 21.96120000\n"
     ]
    }
   ],
   "source": [
    "x = 0.1\n",
    "h = 0.1\n",
    "\n",
    "print(\"\\t f'(x)\\t\\err\\t\\f''(x)\\t\\t err\")\n",
    "\n",
    "\n",
    "#forward difference\n",
    "\n",
    "dff1 = (f(x+h) - f(x))/h\n",
    "dff2 = (f(x+2*h) - 2*f(x+h) + f(x))/h**2\n",
    "print(\"FFD\\t% .8f\\t% .8f\\t% .8f\\t% .8f\"%(dff1,dff1-df1,dff2,dff2-df2))\n",
    "\n",
    "#backward difference\n",
    "\n",
    "dff1 = (f(x) - f(x-h))/h\n",
    "dff2 = (f(x+2*h) - 2*f(x-h) + f(x-2*h))/h**2\n",
    "print(\"BFD\\t% .8f\\t% .8f\\t% .8f\\t% .8f\"%(dff1,dff1-df1,dff2,dff2-df2))\n",
    "\n",
    "#central difference\n",
    "\n",
    "dff1 = (f(x+h) - f(x-h))/h\n",
    "dff2 = (f(x+h) - 2*f(x-h))/h**2\n",
    "print(\"CFD\\t% .8f\\t% .8f\\t% .8f\\t% .8f\"%(dff1,dff1-df1,dff2,dff2-df2))"
   ]
  },
  {
   "cell_type": "code",
   "execution_count": 26,
   "id": "0f6de4ce",
   "metadata": {},
   "outputs": [
    {
     "name": "stdout",
     "output_type": "stream",
     "text": [
      "\f",
      "'(x)\t\t err\t\t f''(x)\t\t err\n"
     ]
    }
   ],
   "source": []
  },
  {
   "cell_type": "code",
   "execution_count": 27,
   "id": "73617d02",
   "metadata": {},
   "outputs": [],
   "source": []
  },
  {
   "cell_type": "code",
   "execution_count": 28,
   "id": "cf9f4382",
   "metadata": {},
   "outputs": [
    {
     "name": "stdout",
     "output_type": "stream",
     "text": [
      "FFD\t 0.086310\t-0.008540\t-0.222000\t-0.104000\n"
     ]
    }
   ],
   "source": []
  },
  {
   "cell_type": "code",
   "execution_count": null,
   "id": "351304ba",
   "metadata": {},
   "outputs": [],
   "source": []
  }
 ],
 "metadata": {
  "kernelspec": {
   "display_name": "Python 3",
   "language": "python",
   "name": "python3"
  },
  "language_info": {
   "codemirror_mode": {
    "name": "ipython",
    "version": 3
   },
   "file_extension": ".py",
   "mimetype": "text/x-python",
   "name": "python",
   "nbconvert_exporter": "python",
   "pygments_lexer": "ipython3",
   "version": "3.8.8"
  }
 },
 "nbformat": 4,
 "nbformat_minor": 5
}
